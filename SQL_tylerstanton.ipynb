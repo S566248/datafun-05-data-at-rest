{
 "cells": [
  {
   "attachments": {},
   "cell_type": "markdown",
   "metadata": {},
   "source": [
    "Creator: Tyler Stanton\n",
    "DATA ANALYTICS FUNDAMENTALS 80\n",
    "Project 5, Task 4"
   ]
  },
  {
   "cell_type": "code",
   "execution_count": 3,
   "metadata": {},
   "outputs": [
    {
     "ename": "OperationalError",
     "evalue": "unable to open database file",
     "output_type": "error",
     "traceback": [
      "\u001b[1;31m---------------------------------------------------------------------------\u001b[0m",
      "\u001b[1;31mOperationalError\u001b[0m                          Traceback (most recent call last)",
      "Cell \u001b[1;32mIn[3], line 3\u001b[0m\n\u001b[0;32m      1\u001b[0m \u001b[39mimport\u001b[39;00m \u001b[39msqlite3\u001b[39;00m\n\u001b[1;32m----> 3\u001b[0m connection \u001b[39m=\u001b[39m sqlite3\u001b[39m.\u001b[39;49mconnect(\u001b[39mr\u001b[39;49m\u001b[39m'\u001b[39;49m\u001b[39m.\u001b[39;49m\u001b[39m\\\u001b[39;49m\u001b[39mData\u001b[39;49m\u001b[39m\\\u001b[39;49m\u001b[39mbooks.db\u001b[39;49m\u001b[39m'\u001b[39;49m)\n",
      "\u001b[1;31mOperationalError\u001b[0m: unable to open database file"
     ]
    }
   ],
   "source": [
    "import sqlite3\n",
    "\n",
    "connection = sqlite3.connect(r'.\\Data\\books.db')"
   ]
  },
  {
   "attachments": {},
   "cell_type": "markdown",
   "metadata": {},
   "source": [
    "Section 1: SELECT"
   ]
  },
  {
   "cell_type": "code",
   "execution_count": null,
   "metadata": {},
   "outputs": [],
   "source": [
    "import pandas as pd\n",
    "\n",
    "pd.options.display.max_columns = 10\n",
    "pd.read_sql('SELECT * FROM authors',connection, index_col+['id'])\n",
    "pd.read_sql('SELECT * FROM titles',connection)\n",
    "df = pd.read_sql('SELECT * FROM author_ISBN',connection, index_col+['id'])\n",
    "df.head()\n",
    "\n",
    "pd.read_sql('SELECT first, last FROM authors', connection)"
   ]
  },
  {
   "attachments": {},
   "cell_type": "markdown",
   "metadata": {},
   "source": [
    "Section 2: WHERE"
   ]
  },
  {
   "cell_type": "code",
   "execution_count": null,
   "metadata": {},
   "outputs": [],
   "source": [
    "pd.read_sql(\"\"\"SELECT title, edition, copyright FROM titles \n",
    "                WHERE copyright > '2016'\"\"\", connection)\n",
    "pd.read_sql(\"\"\"SELECT id, first, last FROM authors \n",
    "                WHERE last LIKE 'D%'\"\"\", connection, index_col=['id'])\n",
    "pd.read_sql(\"\"\"SELECT id, first, last FROM authors \n",
    "                WHERE last LIKE '_b%'\"\"\", connection, index_col=['id'])"
   ]
  },
  {
   "attachments": {},
   "cell_type": "markdown",
   "metadata": {},
   "source": [
    "Section 3: ORDER BY"
   ]
  },
  {
   "cell_type": "code",
   "execution_count": null,
   "metadata": {},
   "outputs": [],
   "source": [
    "pd.read_sql('SELECT title FROM titles ORDER BY title ASC', connection)\n",
    "pd.read_sql(\"\"\"SELECT id, first, last FROM authors \n",
    "                ORDER BY last, first\"\"\", connection, index_col=['id'])\n",
    "pd.read_sql(\"\"\"SELECT id, first, last FROM authors \n",
    "                ORDER BY last DESC, first ASC\"\"\", connection, index_col=['id'])\n",
    "pd.read_sql(\"\"\"SELECT isbn, title, edition, copyright FROM titles\n",
    "                WHERE title LIKE '%How to Program'\n",
    "                ORDER BY title\"\"\", connection)"
   ]
  },
  {
   "attachments": {},
   "cell_type": "markdown",
   "metadata": {},
   "source": [
    "Section 4: INNER JOIN"
   ]
  },
  {
   "cell_type": "code",
   "execution_count": null,
   "metadata": {},
   "outputs": [],
   "source": [
    "pd.read_sql(\"\"\"SELECT first, last, isbn FROM authors\n",
    "                INNER JOIN author_ISBN ON authors.id = author_ISBN.id\n",
    "                ORDER BY last, first\"\"\", connection).head()"
   ]
  },
  {
   "attachments": {},
   "cell_type": "markdown",
   "metadata": {},
   "source": [
    "Section 5: INSERT INTO"
   ]
  },
  {
   "cell_type": "code",
   "execution_count": null,
   "metadata": {},
   "outputs": [],
   "source": [
    "cursor = connection.cursor\n",
    "cursor = cursor.execute(\"\"\"INSERT INTO authors (first, last) \n",
    "                            VALUES ('Sue', 'Red')\"\"\")\n",
    "pd.read_sql(\"\"\"SELECT id, first, last FROM authors\"\"\", \n",
    "            connection, index_col=['id'])"
   ]
  },
  {
   "attachments": {},
   "cell_type": "markdown",
   "metadata": {},
   "source": [
    "Section 6: UPDATE"
   ]
  },
  {
   "cell_type": "code",
   "execution_count": null,
   "metadata": {},
   "outputs": [],
   "source": [
    "cursor = cursor.execute(\"\"\"UPDATE authors SET last='Black' \n",
    "                            WHERE last='Red' AND first='Sue'\"\"\")\n",
    "pd.read_sql(\"\"\"SELECT id, first, last FROM authors\"\"\", \n",
    "            connection, index_col=['id'])"
   ]
  },
  {
   "attachments": {},
   "cell_type": "markdown",
   "metadata": {},
   "source": [
    "Section 7: DELETE FROM"
   ]
  },
  {
   "cell_type": "code",
   "execution_count": null,
   "metadata": {},
   "outputs": [],
   "source": [
    "cursor = cursor.execute('DELETE FROM authors WHERE id=6')\n",
    "cursor.rowcount\n",
    "pd.read_sql('SELECT id, first, last FROM authors', \n",
    "            connection, index_col=['id'])"
   ]
  },
  {
   "attachments": {},
   "cell_type": "markdown",
   "metadata": {},
   "source": [
    "Section 8: SELECT"
   ]
  },
  {
   "cell_type": "code",
   "execution_count": null,
   "metadata": {},
   "outputs": [
    {
     "ename": "NameError",
     "evalue": "name 'pd' is not defined",
     "output_type": "error",
     "traceback": [
      "\u001b[1;31m---------------------------------------------------------------------------\u001b[0m",
      "\u001b[1;31mNameError\u001b[0m                                 Traceback (most recent call last)",
      "Cell \u001b[1;32mIn[2], line 1\u001b[0m\n\u001b[1;32m----> 1\u001b[0m pd\u001b[39m.\u001b[39mread_sql(\u001b[39m\"\"\"\u001b[39m\u001b[39mSELECT title, edition FROM titles\u001b[39m\n\u001b[0;32m      2\u001b[0m \u001b[39m                ORDER BY edition DESC\u001b[39m\u001b[39m\"\"\"\u001b[39m, connection)\u001b[39m.\u001b[39mhead(\u001b[39m3\u001b[39m)\n\u001b[0;32m      4\u001b[0m pd\u001b[39m.\u001b[39mread_sql(\u001b[39m\"\"\"\u001b[39m\u001b[39mSELECT * FROM authors \u001b[39m\n\u001b[0;32m      5\u001b[0m \u001b[39m            WHERE first LIKE \u001b[39m\u001b[39m'\u001b[39m\u001b[39mA\u001b[39m\u001b[39m%\u001b[39m\u001b[39m'\u001b[39m\u001b[39m\"\"\"\u001b[39m, connection)\n\u001b[0;32m      7\u001b[0m pd\u001b[39m.\u001b[39mread_sql(\u001b[39m\"\"\"\u001b[39m\u001b[39mSELECT isbn, title, edition, copyright FROM titles\u001b[39m\n\u001b[0;32m      8\u001b[0m \u001b[39m                WHERE title NOT LIKE \u001b[39m\u001b[39m'\u001b[39m\u001b[39m%\u001b[39m\u001b[39mHow to Program\u001b[39m\u001b[39m'\u001b[39m\n\u001b[0;32m      9\u001b[0m \u001b[39m                ORDER BY title\u001b[39m\u001b[39m\"\"\"\u001b[39m, connection)\u001b[39m.\u001b[39mhead(\u001b[39m3\u001b[39m)\n",
      "\u001b[1;31mNameError\u001b[0m: name 'pd' is not defined"
     ]
    }
   ],
   "source": [
    "pd.read_sql(\"\"\"SELECT title, edition FROM titles\n",
    "                ORDER BY edition DESC\"\"\", connection).head(3)\n",
    "\n",
    "pd.read_sql(\"\"\"SELECT * FROM authors \n",
    "            WHERE first LIKE 'A%'\"\"\", connection)\n",
    "\n",
    "pd.read_sql(\"\"\"SELECT isbn, title, edition, copyright FROM titles\n",
    "                WHERE title NOT LIKE '%How to Program'\n",
    "                ORDER BY title\"\"\", connection)"
   ]
  }
 ],
 "metadata": {
  "kernelspec": {
   "display_name": "Python 3",
   "language": "python",
   "name": "python3"
  },
  "language_info": {
   "codemirror_mode": {
    "name": "ipython",
    "version": 3
   },
   "file_extension": ".py",
   "mimetype": "text/x-python",
   "name": "python",
   "nbconvert_exporter": "python",
   "pygments_lexer": "ipython3",
   "version": "3.11.3"
  },
  "orig_nbformat": 4
 },
 "nbformat": 4,
 "nbformat_minor": 2
}
